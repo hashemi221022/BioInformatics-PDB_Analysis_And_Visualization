{
 "cells": [
  {
   "cell_type": "markdown",
   "id": "69b7ba99",
   "metadata": {},
   "source": [
    "<h1><center style=\"font-family:newtimeroman;font-size:150%; border-radius:50px; padding: 20px; color: yellow; background-color: black\">Bioinformatics-PDB Analysis And Visualization</center></h1>\n",
    "<center><img style=\"border-radius: 20px 20px 20px 20px\" src='https://encrypted-tbn0.gstatic.com/images?q=tbn:ANd9GcRqWo9wC4dIdWK3fM4gyvGsgsj0xpVYEo90zw&s' height=300px width=500px border-radius=55%></center><br>\n",
    "\n",
    "<div style=\"border-radius:50px; padding: 20px; background-color: black; font-size:120%; text-align:left\">\n",
    "\n",
    "<h3 align=\"left\"><font color= white >About notebook and data:</font></h3>\n",
    "    \n",
    "<p><font color=#fffb00>\n",
    "The PDB format is a standard file format used to store and represent the three-dimensional atomic coordinates of biomolecules, primarily proteins. It's a widely used format within the Protein Data Bank (PDB), and numerous programs are designed to read and write PDB files. The format also includes metadata like authors, references, and experimental methods, offering a comprehensive description of the structure. \n",
    "\n",
    "   <div class=\"container\">\n",
    "        <h1><font color= yellow>PDB Analysis and Visualization</h1>\n",
    "        <div class=\"section\">\n",
    "            <h2><font color= yellow>What You'll Learn</h2>\n",
    "            <p>This notebook teaches you how to analyze and visualize <span class=\"highlight\">Protein Data Bank (PDB)</span> files. You'll explore:</p>\n",
    "            <ul>\n",
    "                <li>Managing directories and files for PDB data.</li>\n",
    "                <li>Extracting key information like <span class=\"highlight\">ligands, chains, resolution, and organism details</span>.</li>\n",
    "                <li>Visualizing molecular structures using <span class=\"highlight\">nglview</span>.</li>\n",
    "                <li>Customizing visualizations to highlight specific molecular components.</li>\n",
    "                <li>Saving and exporting visualizations for further use.</li>\n",
    "            </ul>\n",
    "        </div>\n",
    "        <div class=\"section\">\n",
    "            <h2><font color= yellow>Why It's Useful</h2>\n",
    "            <p>This notebook is perfect for learners interested in <span class=\"highlight\">structural bioinformatics</span> and molecular visualization. It provides hands-on experience with real-world data and tools.</p>\n",
    "        </div>\n",
    "        <div class=\"section\">\n",
    "            <h2><font color= yellow>Get Started</h2>\n",
    "            <p>Follow the steps in the notebook to unlock the power of PDB analysis and visualization!</p>\n",
    "        </div>\n",
    "    </div>\n",
    "</body>\n",
    "</html>\n",
    "\n",
    " <center><button type=\"button\"><a href=\"https://www.rcsb.org/structure/2V0Z\">RCSB website for pdb file</a></button></center>"
   ]
  },
  {
   "cell_type": "markdown",
   "id": "884a1bdf-ba27-4940-a480-da27d9578867",
   "metadata": {},
   "source": [
    "# <p style=\"background-color:black; font-family:calibri; color:#FF00FF; font-size:170%; text-align:center; border-radius:30px 30px;\">1. The First Step | Import library</p>"
   ]
  },
  {
   "cell_type": "code",
   "execution_count": 1,
   "id": "8ef39e0e",
   "metadata": {
    "trusted": true
   },
   "outputs": [
    {
     "data": {
      "application/vnd.jupyter.widget-view+json": {
       "model_id": "cbad05927510447692af26941f60e435",
       "version_major": 2,
       "version_minor": 0
      },
      "text/plain": []
     },
     "metadata": {},
     "output_type": "display_data"
    }
   ],
   "source": [
    "# Import required libraries\n",
    "import os\n",
    "import pandas as pd\n",
    "import nglview as nv\n"
   ]
  },
  {
   "cell_type": "code",
   "execution_count": 2,
   "id": "263c1489",
   "metadata": {
    "trusted": true
   },
   "outputs": [
    {
     "data": {
      "text/plain": [
       "['.DS_Store',\n",
       " 'pdb_files',\n",
       " '.gitignore',\n",
       " 'bioinformatics-pdb-analysis-and-visualization.ipynb',\n",
       " 'venv']"
      ]
     },
     "execution_count": 2,
     "metadata": {},
     "output_type": "execute_result"
    }
   ],
   "source": [
    "# Show all the file that is exist in directory\n",
    "os.listdir()"
   ]
  },
  {
   "cell_type": "code",
   "execution_count": 3,
   "id": "03cfb72c",
   "metadata": {
    "trusted": true
   },
   "outputs": [
    {
     "name": "stdout",
     "output_type": "stream",
     "text": [
      "pdb_files/2v0z.pdb\n"
     ]
    }
   ],
   "source": [
    "# make a file Path\n",
    "path_of_file = os.path.join(\"pdb_files\", \"2v0z.pdb\")\n",
    "print(path_of_file)"
   ]
  },
  {
   "cell_type": "code",
   "execution_count": 4,
   "id": "3bac80b1",
   "metadata": {
    "trusted": true
   },
   "outputs": [],
   "source": [
    "# Open and read file\n",
    "with open(path_of_file) as fp:\n",
    "    data= fp.readlines()"
   ]
  },
  {
   "cell_type": "code",
   "execution_count": 5,
   "id": "5716b504-9bb9-4b3b-92d3-3f966bd116ee",
   "metadata": {
    "trusted": true
   },
   "outputs": [
    {
     "name": "stdout",
     "output_type": "stream",
     "text": [
      "HEADER    HYDROLASE                               21-MAY-07   2V0Z              \n",
      "\n",
      "TITLE     CRYSTAL STRUCTURE OF RENIN WITH INHIBITOR 10 (ALISKIREN)              \n",
      "\n",
      "CAVEAT     2V0Z    NAG C 1327 HAS WRONG CHIRALITY AT ATOM C1 NAG O 1328 HAS     \n",
      "\n",
      "CAVEAT   2 2V0Z    WRONG CHIRALITY AT ATOM C1                                   \n",
      "\n",
      "COMPND    MOL_ID: 1;                                                            \n",
      "\n",
      "COMPND   2 MOLECULE: RENIN;                                                     \n",
      "\n",
      "COMPND   3 CHAIN: C, O;                                                         \n",
      "\n",
      "COMPND   4 SYNONYM: ANGIOTENSINOGENASE;                                         \n",
      "\n",
      "COMPND   5 EC: 3.4.23.15;                                                       \n",
      "\n",
      "COMPND   6 ENGINEERED: YES                                                      \n",
      "\n",
      "SOURCE    MOL_ID: 1;                                                            \n",
      "\n",
      "SOURCE   2 ORGANISM_SCIENTIFIC: HOMO SAPIENS;                                   \n",
      "\n",
      "SOURCE   3 ORGANISM_COMMON: HUMAN;                                              \n",
      "\n",
      "SOURCE   4 ORGANISM_TAXID: 9606;                                                \n",
      "\n",
      "SOURCE   5 EXPRESSION_SYSTEM: CRICETULUS GRISEUS;                               \n",
      "\n",
      "SOURCE   6 EXPRESSION_SYSTEM_TAXID: 10029;                                      \n",
      "\n",
      "SOURCE   7 EXPRESSION_SYSTEM_CELL_LINE: CHO                                     \n",
      "\n",
      "KEYWDS    GLYCOPROTEIN, INHIBITOR-COMPLEX, ASPARTYL PROTEASE, ZYMOGEN,          \n",
      "\n",
      "KEYWDS   2 PROTEASE, HYDROLASE, POLYMORPHISM, ALTERNATIVE SPLICING,             \n",
      "\n",
      "KEYWDS   3 HYDROLASE(ACID PROTEINASE), CLEAVAGE ON PAIR OF BASIC RESIDUES       \n",
      "\n"
     ]
    }
   ],
   "source": [
    "# PDB file\n",
    "for lines in data[:20]:\n",
    "    print(lines)"
   ]
  },
  {
   "cell_type": "markdown",
   "id": "2318bbe4-7239-4d47-ad94-937b4418d7b1",
   "metadata": {},
   "source": [
    "# <p style=\"background-color:black; font-family:calibri; color:#FF00FF; font-size:170%; text-align:center; border-radius:30px 30px;\">2. The Second Step | Analysis PDB File</p>"
   ]
  },
  {
   "cell_type": "code",
   "execution_count": 6,
   "id": "e5b4a4e9",
   "metadata": {
    "trusted": true
   },
   "outputs": [
    {
     "name": "stdout",
     "output_type": "stream",
     "text": [
      "The PDB ID is 2v0z\n"
     ]
    }
   ],
   "source": [
    "# File name\n",
    "file_name = os.path.basename(path_of_file)\n",
    "pdb_id = file_name.split(\".\")[0]\n",
    "print(f\"The PDB ID is {pdb_id}\")"
   ]
  },
  {
   "cell_type": "code",
   "execution_count": 7,
   "id": "191c06e5",
   "metadata": {
    "trusted": true
   },
   "outputs": [
    {
     "name": "stdout",
     "output_type": "stream",
     "text": [
      "There are 6695 lins in this file.\n"
     ]
    }
   ],
   "source": [
    "# How many line in the files?\n",
    "print(f\"There are {len(data)} lins in this file.\")"
   ]
  },
  {
   "cell_type": "code",
   "execution_count": 8,
   "id": "8baf418a",
   "metadata": {
    "trusted": true
   },
   "outputs": [
    {
     "name": "stdout",
     "output_type": "stream",
     "text": [
      "Header : HYDROLASE                               21-MAY-07   2V0Z              \n",
      "\n",
      "Title : CRYSTAL STRUCTURE OF RENIN WITH INHIBITOR 10 (ALISKIREN)              \n",
      "\n"
     ]
    }
   ],
   "source": [
    "# get info()\n",
    "header = data[0][10: ]\n",
    "title = data[1][10: ]\n",
    "print(f\"Header : {header}\")\n",
    "print(f\"Title : {title}\")"
   ]
  },
  {
   "cell_type": "code",
   "execution_count": 9,
   "id": "dd383445",
   "metadata": {
    "trusted": true
   },
   "outputs": [
    {
     "name": "stdout",
     "output_type": "stream",
     "text": [
      "Hetrogen molecule 1 is C41 or it's complete name is  C41 ALISKIREN                                                        \n",
      "\n",
      "Hetrogen molecule 2 is NAG or it's complete name is  NAG 2-ACETAMIDO-2-DEOXY-BETA-D-GLUCOPYRANOSE                         \n",
      "\n"
     ]
    }
   ],
   "source": [
    "# Find special info from data\n",
    "# number of ligand\n",
    "het_name =list() \n",
    "for lines in data:\n",
    "    if \"HETNAM\" in lines and \"REVDAT\" not in lines:\n",
    "        het_name.append(lines)\n",
    "ligand_1 = het_name[1].split()[1]\n",
    "ligand_2 = het_name[0].split()[1]\n",
    "ligand_1_complete_name = het_name[1][10:]\n",
    "ligand_2_complete_name = het_name[0][10:]\n",
    "print(f\"Hetrogen molecule 1 is {ligand_1} or it's complete name is {ligand_1_complete_name}\")\n",
    "print(f\"Hetrogen molecule 2 is {ligand_2} or it's complete name is {ligand_2_complete_name}\")\n"
   ]
  },
  {
   "cell_type": "code",
   "execution_count": 10,
   "id": "0bdab92c",
   "metadata": {
    "trusted": true
   },
   "outputs": [
    {
     "name": "stdout",
     "output_type": "stream",
     "text": [
      "In this file 2 chain exist : Chain O and chain C\n"
     ]
    }
   ],
   "source": [
    "# Find special info from data\n",
    "# number of protein chains\n",
    "chain_name =list() \n",
    "for lines in data:\n",
    "    if \"TER\" in lines:\n",
    "        chain_name.append(lines)\n",
    "chain_o = chain_name[-2].split()[3]\n",
    "chain_c = chain_name[-3].split()[3]\n",
    "print(f\"In this file 2 chain exist : Chain {chain_o} and chain {chain_c}\")"
   ]
  },
  {
   "cell_type": "code",
   "execution_count": 11,
   "id": "dc91c4fd",
   "metadata": {
    "trusted": true
   },
   "outputs": [
    {
     "name": "stdout",
     "output_type": "stream",
     "text": [
      "Resolution is 2.20 Angstrom\n"
     ]
    }
   ],
   "source": [
    "# Find special info from data\n",
    "# Find resolution\n",
    "for lines in data:\n",
    "    if \"RESOLUTION.\" in lines:\n",
    "        res_line = lines\n",
    "        resolution = res_line.split()[3]\n",
    "print(f\"Resolution is {resolution} Angstrom\")\n"
   ]
  },
  {
   "cell_type": "code",
   "execution_count": 12,
   "id": "368d9396",
   "metadata": {
    "trusted": true
   },
   "outputs": [
    {
     "name": "stdout",
     "output_type": "stream",
     "text": [
      "EC Number of this protein is 3.4.23.15\n"
     ]
    }
   ],
   "source": [
    "# Find special info from data\n",
    "# Find EC number\n",
    "for lines in data:\n",
    "    if \"EC:\" in lines:\n",
    "        res_line = lines\n",
    "        ec_number = res_line.split()[3][ :9]\n",
    "print(f\"EC Number of this protein is {ec_number}\")"
   ]
  },
  {
   "cell_type": "code",
   "execution_count": 13,
   "id": "6cedd6af",
   "metadata": {
    "trusted": true
   },
   "outputs": [
    {
     "name": "stdout",
     "output_type": "stream",
     "text": [
      " Source of this protein : HOMO SAPIENS\n"
     ]
    }
   ],
   "source": [
    "# Find special info from data\n",
    "# Find source of protein\n",
    "for lines in data:\n",
    "    if \"ORGANISM_SCIENTIFIC:\" in lines:\n",
    "        res_line = lines\n",
    "        protein_source = res_line.split()[3] + ' ' + res_line.split()[4][:7]\n",
    "print(f\" Source of this protein : {protein_source}\")"
   ]
  },
  {
   "cell_type": "code",
   "execution_count": 14,
   "id": "89451847",
   "metadata": {
    "trusted": true
   },
   "outputs": [
    {
     "name": "stdout",
     "output_type": "stream",
     "text": [
      "In this file 2 chain exist : O with 326 atoms and chain C with 326 atoms\n"
     ]
    }
   ],
   "source": [
    "# Find special info from data\n",
    "# number of atom in each chains\n",
    "chain_name =list() \n",
    "for lines in data:\n",
    "    if \"TER\" in lines:\n",
    "        chain_name.append(lines)\n",
    "chain_o = chain_name[-2].split()[3]\n",
    "cain_c = chain_name[-3].split()[3]\n",
    "number_of_atoms = chain_name[-2].split()[4]\n",
    "print(f\"In this file 2 chain exist : {chain_o} with {number_of_atoms} atoms and chain {cain_c} with {number_of_atoms} atoms\")"
   ]
  },
  {
   "cell_type": "code",
   "execution_count": 15,
   "id": "1b850b45",
   "metadata": {
    "trusted": true
   },
   "outputs": [
    {
     "name": "stdout",
     "output_type": "stream",
     "text": [
      "The ORGANISM TAXID is 9606\n"
     ]
    }
   ],
   "source": [
    "# Find special info from data\n",
    "# organism tax id\n",
    "for lines in data:\n",
    "    if \"ORGANISM_TAXID:\" in lines:\n",
    "        res_line = lines\n",
    "        organism_tax_id = res_line.split()[3][:4]\n",
    "print(f\"The ORGANISM TAXID is {organism_tax_id}\")"
   ]
  },
  {
   "cell_type": "code",
   "execution_count": 16,
   "id": "927472a6",
   "metadata": {
    "trusted": true
   },
   "outputs": [
    {
     "name": "stdout",
     "output_type": "stream",
     "text": [
      "\n",
      " MISSING RESIDUES\n",
      " THE FOLLOWING RESIDUES WERE NOT LOCATED IN THE\n",
      " EXPERIMENT. (M=MODEL NUMBER; RES=RESIDUE NAME; C=CHAIN\n",
      " IDENTIFIER; SSSEQ=SEQUENCE NUMBER; I=INSERTION CODE.)\n",
      "\n",
      "   M RES C SSSEQI\n",
      "     ASN C   160A\n",
      "     GLU O   160\n",
      "     ASN O   160A\n",
      "     SER O   160B\n"
     ]
    }
   ],
   "source": [
    "# Find missing residues in the protein\n",
    "for lines in data:\n",
    "    if \"REMARK 465\" in lines:\n",
    "        print(lines.strip()[10:])\n"
   ]
  },
  {
   "cell_type": "code",
   "execution_count": 17,
   "id": "4dc02eb8",
   "metadata": {
    "trusted": true
   },
   "outputs": [
    {
     "name": "stdout",
     "output_type": "stream",
     "text": [
      "\n",
      " MISSING ATOM\n",
      " THE FOLLOWING RESIDUES HAVE MISSING ATOMS (M=MODEL NUMBER;\n",
      " RES=RESIDUE NAME; C=CHAIN IDENTIFIER; SSEQ=SEQUENCE NUMBER;\n",
      " I=INSERTION CODE):\n",
      "   M RES CSSEQI  ATOMS\n",
      "     SER C 159    CB   OG\n",
      "     GLU C 160    CA   C    O    CB   CG   CD   OE1\n",
      "     GLU C 160    OE2\n",
      "     SER C 160B   OG\n",
      "     GLN C 160C   CB   CG   CD   OE1  NE2\n",
      "     SER O 159    CA   C    O    CB   OG\n"
     ]
    }
   ],
   "source": [
    "# Find missing atoms in the protein\n",
    "for lines in data:\n",
    "    if \"REMARK 470\" in lines:\n",
    "        print(lines.strip()[10:])"
   ]
  },
  {
   "cell_type": "markdown",
   "id": "a79fb3f7-f60d-4bb0-81e7-6a1e0391162d",
   "metadata": {},
   "source": [
    "# <p style=\"background-color:black; font-family:calibri; color:#FF00FF; font-size:170%; text-align:center; border-radius:30px 30px;\">3. The Third Step | Create DataFrame</p>"
   ]
  },
  {
   "cell_type": "code",
   "execution_count": 18,
   "id": "99a20d9b",
   "metadata": {
    "trusted": true
   },
   "outputs": [
    {
     "data": {
      "text/html": [
       "<div>\n",
       "<style scoped>\n",
       "    .dataframe tbody tr th:only-of-type {\n",
       "        vertical-align: middle;\n",
       "    }\n",
       "\n",
       "    .dataframe tbody tr th {\n",
       "        vertical-align: top;\n",
       "    }\n",
       "\n",
       "    .dataframe thead th {\n",
       "        text-align: right;\n",
       "    }\n",
       "</style>\n",
       "<table border=\"1\" class=\"dataframe\">\n",
       "  <thead>\n",
       "    <tr style=\"text-align: right;\">\n",
       "      <th></th>\n",
       "      <th>Header</th>\n",
       "      <th>Title</th>\n",
       "      <th>Pdb_id</th>\n",
       "      <th>Ligand name 1</th>\n",
       "      <th>Ligand name 2</th>\n",
       "      <th>number of ligands</th>\n",
       "      <th>Chain name 1</th>\n",
       "      <th>Chain name 2</th>\n",
       "      <th>number of chain</th>\n",
       "      <th>resolution</th>\n",
       "      <th>EC Number</th>\n",
       "      <th>Protein Source</th>\n",
       "      <th>Chain atom</th>\n",
       "      <th>Organism Tax Id</th>\n",
       "      <th>MISSING RESIDUES</th>\n",
       "    </tr>\n",
       "  </thead>\n",
       "  <tbody>\n",
       "    <tr>\n",
       "      <th>1</th>\n",
       "      <td>HYDROLASE</td>\n",
       "      <td>CRYSTAL STRUCTURE OF RENIN WITH INHIBITOR 10 (...</td>\n",
       "      <td>2v0z</td>\n",
       "      <td>C41</td>\n",
       "      <td>NAG</td>\n",
       "      <td>2</td>\n",
       "      <td>O</td>\n",
       "      <td>C</td>\n",
       "      <td>2</td>\n",
       "      <td>2.20</td>\n",
       "      <td>3.4.23.15</td>\n",
       "      <td>HOMO SAPIENS</td>\n",
       "      <td>326</td>\n",
       "      <td>9606</td>\n",
       "      <td>Yes</td>\n",
       "    </tr>\n",
       "  </tbody>\n",
       "</table>\n",
       "</div>"
      ],
      "text/plain": [
       "      Header                                              Title Pdb_id  \\\n",
       "1  HYDROLASE  CRYSTAL STRUCTURE OF RENIN WITH INHIBITOR 10 (...   2v0z   \n",
       "\n",
       "  Ligand name 1 Ligand name 2  number of ligands Chain name 1 Chain name 2  \\\n",
       "1           C41           NAG                  2            O            C   \n",
       "\n",
       "   number of chain resolution  EC Number Protein Source Chain atom  \\\n",
       "1                2       2.20  3.4.23.15   HOMO SAPIENS        326   \n",
       "\n",
       "  Organism Tax Id MISSING RESIDUES  \n",
       "1            9606              Yes  "
      ]
     },
     "execution_count": 18,
     "metadata": {},
     "output_type": "execute_result"
    }
   ],
   "source": [
    "# Create a DataFrame\n",
    "data_file = {\n",
    "   \"Header\" : header.split()[0],\n",
    "    \"Title\" : title,\n",
    "    \"Pdb_id\" : pdb_id,\n",
    "    \"Ligand name 1\"  : ligand_1,\n",
    "    \"Ligand name 2\" : ligand_2,\n",
    "    \"number of ligands\" : 2,\n",
    "    \"Chain name 1\" : chain_o,\n",
    "    \"Chain name 2\" : chain_c,\n",
    "    \"number of chain\" : 2,\n",
    "    \"resolution\" : resolution,\n",
    "    \"EC Number\" : ec_number,\n",
    "    \"Protein Source\" : protein_source,\n",
    "    \"Chain atom\" : number_of_atoms, \n",
    "    \"Organism Tax Id\" : organism_tax_id, \n",
    "    \"MISSING RESIDUES\" : \"Yes\"\n",
    "}\n",
    "df = pd.DataFrame(data_file, index=[1])\n",
    "df"
   ]
  },
  {
   "cell_type": "markdown",
   "id": "136cae88",
   "metadata": {},
   "source": [
    "# <p style=\"background-color:black; font-family:calibri; color:#FF00FF; font-size:170%; text-align:center; border-radius:30px 30px;\">4. The fourth Step | Visualizations All Of Molecules </p>"
   ]
  },
  {
   "cell_type": "markdown",
   "id": "80bf8005",
   "metadata": {},
   "source": [
    "<!DOCTYPE html>\n",
    "<html lang=\"en\">\n",
    "<head>\n",
    "    <meta charset=\"UTF-8\">\n",
    "    <meta name=\"viewport\" content=\"width=device-width, initial-scale=1.0\">\n",
    "    <title></title>\n",
    "    <style>\n",
    "        body {\n",
    "            font-family: Arial, sans-serif;\n",
    "            line-height: 1.6;\n",
    "            margin: 20px;\n",
    "            background-color: #f4f4f9;\n",
    "        }\n",
    "        .representation {\n",
    "            margin-bottom: 20px;\n",
    "            padding: 15px;\n",
    "            border: 1px solid #ddd;\n",
    "            border-radius: 5px;\n",
    "            background-color: #fff;\n",
    "        }\n",
    "        .representation h2 {\n",
    "            margin-top: 0;\n",
    "            color: #333;\n",
    "        }\n",
    "        .representation p {\n",
    "            margin: 0;\n",
    "            color: #555;\n",
    "        }\n",
    "    </style>\n",
    "</head>\n",
    "<body>\n",
    "    <h1>Different Types of Protein Representations</h1>\n",
    "\n",
    "<div class=\"representation\">\n",
    "        <h2>Cartoon</h2>\n",
    "        <p>Displays the protein backbone as a cartoon-like ribbon, highlighting secondary structures such as alpha-helices and beta-sheets. This is useful for understanding the overall structure of the protein.</p>\n",
    "</div>\n",
    "\n",
    "<div class=\"representation\">\n",
    "    <h2>Ball+Stick</h2>\n",
    "    <p>Shows atoms as balls and bonds as sticks, providing a detailed view of the atomic structure. This is ideal for examining small molecules or specific regions of the protein.</p>\n",
    "</div>\n",
    "\n",
    "<div class=\"representation\">\n",
    "    <h2>Licorice</h2>\n",
    "    <p>Similar to Ball+Stick but with thinner bonds, emphasizing the connectivity between atoms.</p>\n",
    "</div>\n",
    "\n",
    "<div class=\"representation\">\n",
    "    <h2>Spacefill</h2>\n",
    "    <p>Represents atoms as spheres with radii proportional to their van der Waals radii, giving a sense of the molecular volume.</p>\n",
    "</div>\n",
    "\n",
    "<div class=\"representation\">\n",
    "    <h2>Hyperball</h2>\n",
    "    <p>A variation of Ball+Stick with exaggerated bonds, making it easier to see the connections in complex structures.</p>\n",
    "</div>\n",
    "\n",
    "<div class=\"representation\">\n",
    "    <h2>Surface</h2>\n",
    "    <p>Displays the molecular surface, which is useful for visualizing the shape and accessible surface area of the protein.</p>\n",
    "</div>\n",
    "\n",
    "<div class=\"representation\">\n",
    "    <h2>Base</h2>\n",
    "    <p>Highlights the base of nucleotides in DNA or RNA structures.</p>\n",
    "    </div>\n",
    "</body>\n",
    "</html>"
   ]
  },
  {
   "cell_type": "code",
   "execution_count": 19,
   "id": "6203bb28",
   "metadata": {
    "trusted": true
   },
   "outputs": [
    {
     "data": {
      "application/vnd.jupyter.widget-view+json": {
       "model_id": "f21607c12ae04a53ab4888850e2ac2b9",
       "version_major": 2,
       "version_minor": 0
      },
      "text/plain": [
       "NGLWidget()"
      ]
     },
     "metadata": {},
     "output_type": "display_data"
    }
   ],
   "source": [
    "# Show all molecules with ball+stick shape\n",
    "view = nv.show_file(path_of_file)\n",
    "view.clear_representations()\n",
    "view.add_representation(\"ball+stick\")   \n",
    "view\n",
    "\n"
   ]
  },
  {
   "cell_type": "code",
   "execution_count": 20,
   "id": "86728d59",
   "metadata": {
    "trusted": true
   },
   "outputs": [
    {
     "data": {
      "application/vnd.jupyter.widget-view+json": {
       "model_id": "592b85081d4c4498b7410d0eb89b523b",
       "version_major": 2,
       "version_minor": 0
      },
      "text/plain": [
       "NGLWidget()"
      ]
     },
     "metadata": {},
     "output_type": "display_data"
    }
   ],
   "source": [
    "# Show all molecules with cartoon shape\n",
    "view = nv.show_file(path_of_file)\n",
    "view.clear_representations()\n",
    "view.add_representation(\"cartoon\")     \n",
    "view"
   ]
  },
  {
   "cell_type": "code",
   "execution_count": 21,
   "id": "bbb10c6c",
   "metadata": {
    "trusted": true
   },
   "outputs": [
    {
     "data": {
      "application/vnd.jupyter.widget-view+json": {
       "model_id": "06d12a5f33324903bb6a239b74555f63",
       "version_major": 2,
       "version_minor": 0
      },
      "text/plain": [
       "NGLWidget()"
      ]
     },
     "metadata": {},
     "output_type": "display_data"
    }
   ],
   "source": [
    "# Show all molecules with licorice shape\n",
    "view = nv.show_file(path_of_file)\n",
    "view.clear_representations()\n",
    "view.add_representation(\"licorice\")\n",
    "view"
   ]
  },
  {
   "cell_type": "code",
   "execution_count": 22,
   "id": "52e3ec90",
   "metadata": {
    "trusted": true
   },
   "outputs": [
    {
     "data": {
      "application/vnd.jupyter.widget-view+json": {
       "model_id": "b6f041700f1148d982c0022a00c0fccb",
       "version_major": 2,
       "version_minor": 0
      },
      "text/plain": [
       "NGLWidget()"
      ]
     },
     "metadata": {},
     "output_type": "display_data"
    }
   ],
   "source": [
    "# Show all molecules with spacefill shape\n",
    "view = nv.show_file(path_of_file)\n",
    "view.clear_representations()\n",
    "view.add_representation(\"spacefill\")\n",
    "view"
   ]
  },
  {
   "cell_type": "code",
   "execution_count": 23,
   "id": "819136a5",
   "metadata": {
    "trusted": true
   },
   "outputs": [
    {
     "data": {
      "application/vnd.jupyter.widget-view+json": {
       "model_id": "19193921130c4034b1abaf0a68fcb8f7",
       "version_major": 2,
       "version_minor": 0
      },
      "text/plain": [
       "NGLWidget()"
      ]
     },
     "metadata": {},
     "output_type": "display_data"
    }
   ],
   "source": [
    "# Show all molecules with hyperball shape\n",
    "view = nv.show_file(path_of_file)\n",
    "view.clear_representations()\n",
    "view.add_representation(\"hyperball\")\n",
    "view"
   ]
  },
  {
   "cell_type": "markdown",
   "id": "f67a4926",
   "metadata": {},
   "source": [
    "# <p style=\"background-color:black; font-family:calibri; color:#FF00FF; font-size:170%; text-align:center; border-radius:30px 30px;\">5. The Fifth Step | Visualization Base On Specific Part Of Molecule</p>"
   ]
  },
  {
   "cell_type": "code",
   "execution_count": 24,
   "id": "b1f47885",
   "metadata": {
    "trusted": true
   },
   "outputs": [
    {
     "data": {
      "application/vnd.jupyter.widget-view+json": {
       "model_id": "b2c994dcb82640e0830291a6e5e2aa85",
       "version_major": 2,
       "version_minor": 0
      },
      "text/plain": [
       "NGLWidget()"
      ]
     },
     "metadata": {},
     "output_type": "display_data"
    }
   ],
   "source": [
    "# Show ligands\n",
    "view = nv.show_file(path_of_file)\n",
    "view.clear_representations()\n",
    "view.add_representation(\"hyperball\", \"ligand\")\n",
    "view"
   ]
  },
  {
   "cell_type": "code",
   "execution_count": 25,
   "id": "251c008f",
   "metadata": {
    "trusted": true
   },
   "outputs": [
    {
     "data": {
      "application/vnd.jupyter.widget-view+json": {
       "model_id": "f4389a189a1840a89a104ef5d6b4c380",
       "version_major": 2,
       "version_minor": 0
      },
      "text/plain": [
       "NGLWidget()"
      ]
     },
     "metadata": {},
     "output_type": "display_data"
    }
   ],
   "source": [
    "# Show protein\n",
    "view = nv.show_file(path_of_file)\n",
    "view.clear_representations()\n",
    "view.add_representation(\"cartoon\", \"protein\")\n",
    "view"
   ]
  },
  {
   "cell_type": "code",
   "execution_count": 26,
   "id": "a472fad6",
   "metadata": {
    "trusted": true
   },
   "outputs": [
    {
     "data": {
      "application/vnd.jupyter.widget-view+json": {
       "model_id": "80b23a480be04e3197411737e0cf3e59",
       "version_major": 2,
       "version_minor": 0
      },
      "text/plain": [
       "NGLWidget()"
      ]
     },
     "metadata": {},
     "output_type": "display_data"
    }
   ],
   "source": [
    "# Show the protein and ligand in different shape\n",
    "view = nv.show_file(path_of_file)\n",
    "view.clear_representations()\n",
    "view.add_representation(\"cartoon\", \"protein\")\n",
    "view.add_representation(\"hyperball\", \"ligand\")\n",
    "view"
   ]
  },
  {
   "cell_type": "code",
   "execution_count": 27,
   "id": "1774e2e7",
   "metadata": {
    "trusted": true
   },
   "outputs": [
    {
     "data": {
      "application/vnd.jupyter.widget-view+json": {
       "model_id": "94abbb41487b465d9eb39664765b23e8",
       "version_major": 2,
       "version_minor": 0
      },
      "text/plain": [
       "NGLWidget()"
      ]
     },
     "metadata": {},
     "output_type": "display_data"
    }
   ],
   "source": [
    "# Show water\n",
    "view = nv.show_file(path_of_file)\n",
    "view.clear_representations()\n",
    "view.add_representation(\"hyperball\", \"water\", color=\"blue\")\n",
    "view"
   ]
  },
  {
   "cell_type": "code",
   "execution_count": 28,
   "id": "d531ce68",
   "metadata": {
    "trusted": true
   },
   "outputs": [
    {
     "data": {
      "application/vnd.jupyter.widget-view+json": {
       "model_id": "60cc98c8c35447ea9dd2b675d110d897",
       "version_major": 2,
       "version_minor": 0
      },
      "text/plain": [
       "NGLWidget()"
      ]
     },
     "metadata": {},
     "output_type": "display_data"
    }
   ],
   "source": [
    "# Show the ligand and water\n",
    "view = nv.show_file(path_of_file)\n",
    "view.clear_representations()\n",
    "view.add_representation(\"hyperball\", \"water\", color=\"blue\")\n",
    "view.add_representation(\"ball+stick\", \"ligand\")\n",
    "view"
   ]
  },
  {
   "cell_type": "code",
   "execution_count": 29,
   "id": "936c8f23",
   "metadata": {
    "trusted": true
   },
   "outputs": [
    {
     "data": {
      "application/vnd.jupyter.widget-view+json": {
       "model_id": "0d2087fd5dbd44fe8ef3633dd3764c84",
       "version_major": 2,
       "version_minor": 0
      },
      "text/plain": [
       "NGLWidget()"
      ]
     },
     "metadata": {},
     "output_type": "display_data"
    }
   ],
   "source": [
    "# Show the protein and water\n",
    "view = nv.show_file(path_of_file)\n",
    "view.clear_representations()\n",
    "view.add_representation(\"cartoon\", \"protein\")\n",
    "view.add_representation(\"hyperball\", \"water\", color=\"blue\")\n",
    "view"
   ]
  },
  {
   "cell_type": "code",
   "execution_count": 30,
   "id": "f2c20076",
   "metadata": {
    "trusted": true
   },
   "outputs": [
    {
     "data": {
      "application/vnd.jupyter.widget-view+json": {
       "model_id": "167d2425bf8c40b8a11152934be27774",
       "version_major": 2,
       "version_minor": 0
      },
      "text/plain": [
       "NGLWidget()"
      ]
     },
     "metadata": {},
     "output_type": "display_data"
    }
   ],
   "source": [
    "# Show All The Molecules\n",
    "view = nv.show_file(path_of_file)\n",
    "view.clear_representations()\n",
    "view.add_representation(\"surface\", \"protein\", opacity=0.9)\n",
    "view.add_representation(\"hyperball\", \"water\", color=\"blue\")\n",
    "view.add_representation(\"ball+stick\", \"ligand\", color=\"red\")\n",
    "view"
   ]
  },
  {
   "cell_type": "code",
   "execution_count": 31,
   "id": "eb21efd2",
   "metadata": {
    "trusted": true
   },
   "outputs": [
    {
     "data": {
      "application/vnd.jupyter.widget-view+json": {
       "model_id": "de6859d7d46f44afbd57b1ae5712d86c",
       "version_major": 2,
       "version_minor": 0
      },
      "text/plain": [
       "NGLWidget()"
      ]
     },
     "metadata": {},
     "output_type": "display_data"
    }
   ],
   "source": [
    "# Show the protein and ligand with different color\n",
    "view = nv.show_file(path_of_file)\n",
    "view.clear_representations()\n",
    "view.add_representation(\"cartoon\", \"protein\", color=\"blue\", opacity=0.4)\n",
    "view.add_representation(\"licorice\", \"ligand\", color=\"red\", opacity=0.9)\n",
    "view"
   ]
  },
  {
   "cell_type": "markdown",
   "id": "838af40b",
   "metadata": {},
   "source": [
    "# <p style=\"background-color:black; font-family:calibri; color:#FF00FF; font-size:170%; text-align:center; border-radius:30px 30px;\">6. The Sixth Step | Visualization With Contacts</p>"
   ]
  },
  {
   "cell_type": "code",
   "execution_count": 32,
   "id": "1884c08f",
   "metadata": {
    "trusted": true
   },
   "outputs": [
    {
     "data": {
      "application/vnd.jupyter.widget-view+json": {
       "model_id": "ca8fc6418f5944efad1eeafe1be50b49",
       "version_major": 2,
       "version_minor": 0
      },
      "text/plain": [
       "NGLWidget()"
      ]
     },
     "metadata": {},
     "output_type": "display_data"
    }
   ],
   "source": [
    "# Show the contact\n",
    "view = nv.show_file(path_of_file)\n",
    "view.clear_representations()\n",
    "view.add_representation(\"cartoon\", \"protein\", color=\"blue\", opacity=0.4)\n",
    "view.add_representation(\"licorice\", \"ligand\", color=\"red\", opacity=0.9)\n",
    "view.add_representation(\"contact\")\n",
    "view"
   ]
  },
  {
   "cell_type": "markdown",
   "id": "6343350a-26c1-4931-baf5-946883f58616",
   "metadata": {},
   "source": [
    "# <p style=\"background-color:black; font-family:calibri; color:#FF00FF; font-size:170%; text-align:center; border-radius:30px 30px;\">7. The Seventh Step | Save Image</p>"
   ]
  },
  {
   "cell_type": "code",
   "execution_count": 33,
   "id": "fc53492a-e9aa-4051-8e09-1c99e33e2fb6",
   "metadata": {
    "trusted": true
   },
   "outputs": [],
   "source": [
    "# Create a new directory\n",
    "os.mkdir(\"image\")"
   ]
  },
  {
   "cell_type": "code",
   "execution_count": 34,
   "id": "918c2955",
   "metadata": {
    "trusted": true
   },
   "outputs": [
    {
     "data": {
      "application/vnd.jupyter.widget-view+json": {
       "model_id": "49cb6c91dfd744a0bf34fc4a1575be36",
       "version_major": 2,
       "version_minor": 0
      },
      "text/plain": [
       "Image(value=b'', width='99%')"
      ]
     },
     "execution_count": 34,
     "metadata": {},
     "output_type": "execute_result"
    }
   ],
   "source": [
    "# render the image\n",
    "view.render_image()"
   ]
  },
  {
   "cell_type": "code",
   "execution_count": 35,
   "id": "42c94234",
   "metadata": {
    "trusted": true
   },
   "outputs": [],
   "source": [
    "# Download image\n",
    "view.download_image(\"/image/2v0z.png\")"
   ]
  }
 ],
 "metadata": {
  "kaggle": {
   "accelerator": "none",
   "dataSources": [
    {
     "datasetId": 7359174,
     "sourceId": 11723132,
     "sourceType": "datasetVersion"
    }
   ],
   "dockerImageVersionId": 31012,
   "isGpuEnabled": false,
   "isInternetEnabled": true,
   "language": "python",
   "sourceType": "notebook"
  },
  "kernelspec": {
   "display_name": "venv",
   "language": "python",
   "name": "python3"
  },
  "language_info": {
   "codemirror_mode": {
    "name": "ipython",
    "version": 3
   },
   "file_extension": ".py",
   "mimetype": "text/x-python",
   "name": "python",
   "nbconvert_exporter": "python",
   "pygments_lexer": "ipython3",
   "version": "3.13.3"
  }
 },
 "nbformat": 4,
 "nbformat_minor": 5
}
